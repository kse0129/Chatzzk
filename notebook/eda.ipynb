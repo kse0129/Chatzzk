{
 "cells": [
  {
   "cell_type": "markdown",
   "id": "314b7223-0876-4488-a920-cf7d53542c94",
   "metadata": {},
   "source": [
    "# 1. 라이브러리"
   ]
  },
  {
   "cell_type": "code",
   "execution_count": 49,
   "id": "de5ab0c5-a112-4cec-af16-10d9ce54f0f3",
   "metadata": {
    "scrolled": true
   },
   "outputs": [],
   "source": [
    "import pandas as pd\n",
    "import numpy as np\n",
    "import os\n",
    "import re\n",
    "import psycopg2\n",
    "import psycopg2.extras\n",
    "\n",
    "from collections import Counter\n",
    "from sklearn.feature_extraction.text import TfidfVectorizer\n",
    "from sklearn.manifold import TSNE\n",
    "\n",
    "import matplotlib.pyplot as plt\n",
    "import matplotlib as mpl\n",
    "from matplotlib import font_manager, rc\n",
    "from wordcloud import WordCloud"
   ]
  },
  {
   "cell_type": "code",
   "execution_count": 72,
   "id": "83ac8ad4-66ec-4ead-beb8-01faf8bf3ce7",
   "metadata": {},
   "outputs": [
    {
     "name": "stdout",
     "output_type": "stream",
     "text": [
      "폰트 이름: NanumGothic\n"
     ]
    }
   ],
   "source": [
    "# 나눔고딕 폰트 경로\n",
    "FONT_PATH = \"/home/kse/anaconda3/envs/chzzk/lib/python3.9/site-packages/matplotlib/mpl-data/fonts/ttf/NanumGothic.ttf\"\n",
    "\n",
    "# 1. 폰트 직접 등록\n",
    "font_manager.fontManager.addfont(FONT_PATH)\n",
    "\n",
    "# 2. 등록된 폰트 이름 가져오기\n",
    "nanum_font = font_manager.FontProperties(fname=FONT_PATH)\n",
    "print(\"폰트 이름:\", nanum_font.get_name())\n",
    "\n",
    "# 3. 전역 설정\n",
    "rcParams[\"font.family\"] = nanum_font.get_name()"
   ]
  },
  {
   "cell_type": "code",
   "execution_count": 69,
   "id": "1afce02b-6402-401c-9ff9-eb64dd727da9",
   "metadata": {},
   "outputs": [
    {
     "data": {
      "text/plain": [
       "'NanumGothic'"
      ]
     },
     "execution_count": 69,
     "metadata": {},
     "output_type": "execute_result"
    }
   ],
   "source": [
    "nanum_font.get_name()"
   ]
  },
  {
   "cell_type": "markdown",
   "id": "5bc5f5ad-fc52-418a-a627-70fca75f23c1",
   "metadata": {},
   "source": [
    "# 2. DB 연결"
   ]
  },
  {
   "cell_type": "code",
   "execution_count": 3,
   "id": "28166970-c02a-4e0b-be6f-0f62c3dc77f2",
   "metadata": {},
   "outputs": [],
   "source": [
    "conn = psycopg2.connect(\n",
    "    host=\"xx.xx.xx.xx\",\n",
    "    port=\"5432\",\n",
    "    dbname=\"postgres\",\n",
    "    user=\"postgres\",\n",
    "    password=\"password\"\n",
    ")\n",
    "cur = conn.cursor()"
   ]
  },
  {
   "cell_type": "markdown",
   "id": "af159a50-372c-463c-b666-3b18736de42f",
   "metadata": {},
   "source": [
    "# 3. 데이터 정제"
   ]
  },
  {
   "cell_type": "markdown",
   "id": "b8f066a3-0896-4ca2-a022-0b955f251ab7",
   "metadata": {},
   "source": [
    "## 3.1. 데이터 가져오기"
   ]
  },
  {
   "cell_type": "code",
   "execution_count": 4,
   "id": "9d2ed486-724a-4be3-b7eb-ef6494393513",
   "metadata": {
    "scrolled": true
   },
   "outputs": [
    {
     "name": "stdout",
     "output_type": "stream",
     "text": [
      "10201 까지 읽음 (10000 rows)\n",
      "20202 까지 읽음 (10000 rows)\n",
      "30202 까지 읽음 (10000 rows)\n",
      "40206 까지 읽음 (10000 rows)\n",
      "50206 까지 읽음 (10000 rows)\n",
      "60207 까지 읽음 (10000 rows)\n",
      "70207 까지 읽음 (10000 rows)\n",
      "80207 까지 읽음 (10000 rows)\n",
      "90207 까지 읽음 (10000 rows)\n",
      "100207 까지 읽음 (10000 rows)\n",
      "110207 까지 읽음 (10000 rows)\n",
      "120207 까지 읽음 (10000 rows)\n",
      "130207 까지 읽음 (10000 rows)\n",
      "140207 까지 읽음 (10000 rows)\n",
      "150207 까지 읽음 (10000 rows)\n",
      "160207 까지 읽음 (10000 rows)\n",
      "170207 까지 읽음 (10000 rows)\n",
      "180207 까지 읽음 (10000 rows)\n",
      "190207 까지 읽음 (10000 rows)\n",
      "200208 까지 읽음 (10000 rows)\n",
      "210209 까지 읽음 (10000 rows)\n",
      "220279 까지 읽음 (10000 rows)\n",
      "230279 까지 읽음 (10000 rows)\n",
      "240279 까지 읽음 (10000 rows)\n",
      "250282 까지 읽음 (10000 rows)\n",
      "260282 까지 읽음 (10000 rows)\n",
      "270282 까지 읽음 (10000 rows)\n",
      "280282 까지 읽음 (10000 rows)\n",
      "290282 까지 읽음 (10000 rows)\n",
      "300282 까지 읽음 (10000 rows)\n",
      "310282 까지 읽음 (10000 rows)\n",
      "320282 까지 읽음 (10000 rows)\n",
      "330282 까지 읽음 (10000 rows)\n",
      "340282 까지 읽음 (10000 rows)\n",
      "350282 까지 읽음 (10000 rows)\n",
      "360282 까지 읽음 (10000 rows)\n",
      "370282 까지 읽음 (10000 rows)\n",
      "380282 까지 읽음 (10000 rows)\n",
      "390282 까지 읽음 (10000 rows)\n",
      "400282 까지 읽음 (10000 rows)\n",
      "410282 까지 읽음 (10000 rows)\n",
      "420282 까지 읽음 (10000 rows)\n",
      "430282 까지 읽음 (10000 rows)\n",
      "440282 까지 읽음 (10000 rows)\n",
      "450282 까지 읽음 (10000 rows)\n",
      "460282 까지 읽음 (10000 rows)\n",
      "470282 까지 읽음 (10000 rows)\n",
      "480282 까지 읽음 (10000 rows)\n",
      "490282 까지 읽음 (10000 rows)\n",
      "500283 까지 읽음 (10000 rows)\n",
      "510283 까지 읽음 (10000 rows)\n",
      "520283 까지 읽음 (10000 rows)\n",
      "530283 까지 읽음 (10000 rows)\n",
      "540283 까지 읽음 (10000 rows)\n",
      "550283 까지 읽음 (10000 rows)\n",
      "560283 까지 읽음 (10000 rows)\n",
      "570283 까지 읽음 (10000 rows)\n",
      "580284 까지 읽음 (10000 rows)\n",
      "590284 까지 읽음 (10000 rows)\n",
      "600284 까지 읽음 (10000 rows)\n",
      "610284 까지 읽음 (10000 rows)\n",
      "620284 까지 읽음 (10000 rows)\n",
      "630284 까지 읽음 (10000 rows)\n",
      "640288 까지 읽음 (10000 rows)\n",
      "650288 까지 읽음 (10000 rows)\n",
      "660288 까지 읽음 (10000 rows)\n",
      "670288 까지 읽음 (10000 rows)\n",
      "680288 까지 읽음 (10000 rows)\n",
      "690288 까지 읽음 (10000 rows)\n",
      "700294 까지 읽음 (10000 rows)\n",
      "710294 까지 읽음 (10000 rows)\n",
      "720294 까지 읽음 (10000 rows)\n",
      "730294 까지 읽음 (10000 rows)\n",
      "740294 까지 읽음 (10000 rows)\n",
      "750294 까지 읽음 (10000 rows)\n",
      "760294 까지 읽음 (10000 rows)\n",
      "770294 까지 읽음 (10000 rows)\n",
      "780294 까지 읽음 (10000 rows)\n",
      "790294 까지 읽음 (10000 rows)\n",
      "800294 까지 읽음 (10000 rows)\n",
      "810294 까지 읽음 (10000 rows)\n",
      "820294 까지 읽음 (10000 rows)\n",
      "830294 까지 읽음 (10000 rows)\n",
      "840294 까지 읽음 (10000 rows)\n",
      "850294 까지 읽음 (10000 rows)\n",
      "860294 까지 읽음 (10000 rows)\n",
      "870294 까지 읽음 (10000 rows)\n",
      "880294 까지 읽음 (10000 rows)\n",
      "890294 까지 읽음 (10000 rows)\n",
      "900296 까지 읽음 (10000 rows)\n",
      "910298 까지 읽음 (10000 rows)\n",
      "920298 까지 읽음 (10000 rows)\n",
      "930298 까지 읽음 (10000 rows)\n",
      "940298 까지 읽음 (10000 rows)\n",
      "950299 까지 읽음 (10000 rows)\n",
      "960299 까지 읽음 (10000 rows)\n",
      "970299 까지 읽음 (10000 rows)\n",
      "980299 까지 읽음 (10000 rows)\n",
      "990299 까지 읽음 (10000 rows)\n",
      "1000299 까지 읽음 (10000 rows)\n",
      "1010300 까지 읽음 (10000 rows)\n",
      "1020302 까지 읽음 (10000 rows)\n",
      "1030303 까지 읽음 (10000 rows)\n",
      "1040304 까지 읽음 (10000 rows)\n",
      "1050304 까지 읽음 (10000 rows)\n",
      "1060304 까지 읽음 (10000 rows)\n",
      "1070304 까지 읽음 (10000 rows)\n",
      "1080304 까지 읽음 (10000 rows)\n",
      "1090304 까지 읽음 (10000 rows)\n",
      "1100305 까지 읽음 (10000 rows)\n",
      "1110305 까지 읽음 (10000 rows)\n",
      "1120310 까지 읽음 (10000 rows)\n",
      "1130310 까지 읽음 (10000 rows)\n",
      "1140310 까지 읽음 (10000 rows)\n",
      "1150310 까지 읽음 (10000 rows)\n",
      "1160310 까지 읽음 (10000 rows)\n",
      "1170311 까지 읽음 (10000 rows)\n",
      "1180311 까지 읽음 (10000 rows)\n",
      "1190311 까지 읽음 (10000 rows)\n",
      "1200311 까지 읽음 (10000 rows)\n",
      "1210311 까지 읽음 (10000 rows)\n",
      "1220311 까지 읽음 (10000 rows)\n",
      "1230311 까지 읽음 (10000 rows)\n",
      "1240311 까지 읽음 (10000 rows)\n",
      "1250311 까지 읽음 (10000 rows)\n",
      "1260311 까지 읽음 (10000 rows)\n",
      "1270311 까지 읽음 (10000 rows)\n",
      "1280311 까지 읽음 (10000 rows)\n",
      "1290311 까지 읽음 (10000 rows)\n",
      "1300311 까지 읽음 (10000 rows)\n",
      "1310311 까지 읽음 (10000 rows)\n",
      "1320311 까지 읽음 (10000 rows)\n",
      "1330311 까지 읽음 (10000 rows)\n",
      "1340311 까지 읽음 (10000 rows)\n",
      "1350311 까지 읽음 (10000 rows)\n",
      "1360311 까지 읽음 (10000 rows)\n",
      "1370311 까지 읽음 (10000 rows)\n",
      "1380311 까지 읽음 (10000 rows)\n",
      "1390311 까지 읽음 (10000 rows)\n",
      "1400311 까지 읽음 (10000 rows)\n",
      "1410311 까지 읽음 (10000 rows)\n",
      "1420311 까지 읽음 (10000 rows)\n",
      "1430313 까지 읽음 (10000 rows)\n",
      "1440313 까지 읽음 (10000 rows)\n",
      "1450313 까지 읽음 (10000 rows)\n",
      "1460314 까지 읽음 (10000 rows)\n",
      "1470314 까지 읽음 (10000 rows)\n",
      "1480314 까지 읽음 (10000 rows)\n",
      "1490314 까지 읽음 (10000 rows)\n",
      "1500314 까지 읽음 (10000 rows)\n",
      "1510314 까지 읽음 (10000 rows)\n",
      "1520314 까지 읽음 (10000 rows)\n",
      "1530314 까지 읽음 (10000 rows)\n",
      "1540314 까지 읽음 (10000 rows)\n",
      "1550314 까지 읽음 (10000 rows)\n",
      "1560314 까지 읽음 (10000 rows)\n",
      "1570318 까지 읽음 (10000 rows)\n",
      "1580318 까지 읽음 (10000 rows)\n",
      "1590318 까지 읽음 (10000 rows)\n",
      "1600318 까지 읽음 (10000 rows)\n",
      "1610318 까지 읽음 (10000 rows)\n",
      "1620318 까지 읽음 (10000 rows)\n",
      "1630318 까지 읽음 (10000 rows)\n",
      "1640318 까지 읽음 (10000 rows)\n",
      "1650318 까지 읽음 (10000 rows)\n",
      "1660318 까지 읽음 (10000 rows)\n",
      "1670318 까지 읽음 (10000 rows)\n",
      "1680318 까지 읽음 (10000 rows)\n",
      "1690318 까지 읽음 (10000 rows)\n",
      "1700318 까지 읽음 (10000 rows)\n",
      "1710318 까지 읽음 (10000 rows)\n",
      "1720318 까지 읽음 (10000 rows)\n",
      "1730318 까지 읽음 (10000 rows)\n",
      "1740318 까지 읽음 (10000 rows)\n",
      "1750318 까지 읽음 (10000 rows)\n",
      "1760318 까지 읽음 (10000 rows)\n",
      "1770318 까지 읽음 (10000 rows)\n",
      "1780318 까지 읽음 (10000 rows)\n",
      "1790318 까지 읽음 (10000 rows)\n",
      "1800318 까지 읽음 (10000 rows)\n",
      "1810318 까지 읽음 (10000 rows)\n",
      "1820318 까지 읽음 (10000 rows)\n",
      "1830318 까지 읽음 (10000 rows)\n",
      "1840318 까지 읽음 (10000 rows)\n",
      "1850319 까지 읽음 (10000 rows)\n",
      "1860319 까지 읽음 (10000 rows)\n",
      "1870319 까지 읽음 (10000 rows)\n",
      "1880319 까지 읽음 (10000 rows)\n",
      "1890319 까지 읽음 (10000 rows)\n",
      "1900319 까지 읽음 (10000 rows)\n",
      "1910319 까지 읽음 (10000 rows)\n",
      "1920319 까지 읽음 (10000 rows)\n",
      "1930320 까지 읽음 (10000 rows)\n",
      "1940320 까지 읽음 (10000 rows)\n",
      "1950320 까지 읽음 (10000 rows)\n",
      "1960321 까지 읽음 (10000 rows)\n",
      "1970321 까지 읽음 (10000 rows)\n",
      "1980321 까지 읽음 (10000 rows)\n",
      "1990321 까지 읽음 (10000 rows)\n",
      "2000321 까지 읽음 (10000 rows)\n",
      "2010324 까지 읽음 (10000 rows)\n",
      "2020325 까지 읽음 (10000 rows)\n",
      "2030325 까지 읽음 (10000 rows)\n",
      "2040325 까지 읽음 (10000 rows)\n",
      "2050326 까지 읽음 (10000 rows)\n",
      "2060326 까지 읽음 (10000 rows)\n",
      "2070326 까지 읽음 (10000 rows)\n",
      "2080326 까지 읽음 (10000 rows)\n",
      "2090326 까지 읽음 (10000 rows)\n",
      "2100326 까지 읽음 (10000 rows)\n",
      "2110326 까지 읽음 (10000 rows)\n",
      "2120326 까지 읽음 (10000 rows)\n",
      "2130326 까지 읽음 (10000 rows)\n",
      "2140326 까지 읽음 (10000 rows)\n",
      "2150326 까지 읽음 (10000 rows)\n",
      "2160326 까지 읽음 (10000 rows)\n",
      "2170326 까지 읽음 (10000 rows)\n",
      "2180326 까지 읽음 (10000 rows)\n",
      "2190326 까지 읽음 (10000 rows)\n",
      "2200326 까지 읽음 (10000 rows)\n",
      "2210326 까지 읽음 (10000 rows)\n",
      "2220326 까지 읽음 (10000 rows)\n",
      "2230326 까지 읽음 (10000 rows)\n",
      "2240326 까지 읽음 (10000 rows)\n",
      "2245780 까지 읽음 (5454 rows)\n",
      "   id                       streamer_id user_id     msg  \\\n",
      "0   1  0b33823ac81de48d5b78a38cdbc0ab94    None  1132ㄷㄷ   \n",
      "1   2  0b33823ac81de48d5b78a38cdbc0ab94    None   ㄷㄷㄷㄷㄷ   \n",
      "2   3  0b33823ac81de48d5b78a38cdbc0ab94    None       캬   \n",
      "3   4  0b33823ac81de48d5b78a38cdbc0ab94    None    ㅇㅅㄴㅅ   \n",
      "4   5  0b33823ac81de48d5b78a38cdbc0ab94    None       와   \n",
      "\n",
      "                                ts  \n",
      "0 2025-08-15 10:03:05.212000+00:00  \n",
      "1 2025-08-15 10:03:05.212000+00:00  \n",
      "2 2025-08-15 10:03:05.212000+00:00  \n",
      "3 2025-08-15 10:03:06.513000+00:00  \n",
      "4 2025-08-15 10:03:06.513000+00:00  \n",
      "총 row 수: 2245454\n"
     ]
    }
   ],
   "source": [
    "batch_size = 10000\n",
    "last_id = 0\n",
    "dfs = []\n",
    "\n",
    "while True:\n",
    "    query = \"\"\"\n",
    "        SELECT id, streamer_id, user_id, msg, ts\n",
    "        FROM chat_logs\n",
    "        WHERE id > %s\n",
    "        ORDER BY id ASC\n",
    "        LIMIT %s;\n",
    "    \"\"\"\n",
    "    cur.execute(query, (last_id, batch_size))\n",
    "    rows = cur.fetchall()\n",
    "    \n",
    "    if not rows:\n",
    "        break\n",
    "    \n",
    "    df = pd.DataFrame(rows, columns=[\"id\", \"streamer_id\", \"user_id\", \"msg\", \"ts\"])\n",
    "    dfs.append(df)\n",
    "    \n",
    "    last_id = rows[-1][0]   # 마지막 row의 id를 다음 루프 시작점으로\n",
    "    print(f\"{last_id} 까지 읽음 ({len(rows)} rows)\")"
   ]
  },
  {
   "cell_type": "code",
   "execution_count": 73,
   "id": "9d0cda35-88e4-4cc9-92b1-c3cdf5eea74f",
   "metadata": {},
   "outputs": [
    {
     "name": "stdout",
     "output_type": "stream",
     "text": [
      "   id                       streamer_id user_id     msg  \\\n",
      "0   1  0b33823ac81de48d5b78a38cdbc0ab94    None  1132ㄷㄷ   \n",
      "1   2  0b33823ac81de48d5b78a38cdbc0ab94    None   ㄷㄷㄷㄷㄷ   \n",
      "2   3  0b33823ac81de48d5b78a38cdbc0ab94    None       캬   \n",
      "3   4  0b33823ac81de48d5b78a38cdbc0ab94    None    ㅇㅅㄴㅅ   \n",
      "4   5  0b33823ac81de48d5b78a38cdbc0ab94    None       와   \n",
      "\n",
      "                                ts  \n",
      "0 2025-08-15 10:03:05.212000+00:00  \n",
      "1 2025-08-15 10:03:05.212000+00:00  \n",
      "2 2025-08-15 10:03:05.212000+00:00  \n",
      "3 2025-08-15 10:03:06.513000+00:00  \n",
      "4 2025-08-15 10:03:06.513000+00:00  \n",
      "총 row 수: 2245454\n"
     ]
    }
   ],
   "source": [
    "chat_df = pd.concat(dfs, ignore_index=True)\n",
    "\n",
    "print(chat_df.head())\n",
    "print(\"총 row 수:\", len(chat_df))"
   ]
  },
  {
   "cell_type": "markdown",
   "id": "0b901124-be21-420b-8bee-223d9e1b15e4",
   "metadata": {},
   "source": [
    "## 3.2. 데이터 프레임"
   ]
  },
  {
   "cell_type": "code",
   "execution_count": 74,
   "id": "2af52e4a-213b-4ce4-ba86-aeb5323c4822",
   "metadata": {},
   "outputs": [],
   "source": [
    "chat_df.columns = [\"id\", \"streamer_id\", \"nickname\", \"chat\", \"time\"]"
   ]
  },
  {
   "cell_type": "code",
   "execution_count": 75,
   "id": "542bb4df-c158-4170-a3ee-ba4ba664918a",
   "metadata": {},
   "outputs": [
    {
     "data": {
      "text/plain": [
       "array(['1132ㄷㄷ', 'ㄷㄷㄷㄷㄷ', '캬', ..., 'ㄹㅇ', 'ㄹㅇ', 'lzi'], dtype=object)"
      ]
     },
     "execution_count": 75,
     "metadata": {},
     "output_type": "execute_result"
    }
   ],
   "source": [
    "chat_df[\"chat\"].values"
   ]
  },
  {
   "cell_type": "code",
   "execution_count": 76,
   "id": "65697182-6bea-48b8-973a-778aeeac8d72",
   "metadata": {},
   "outputs": [],
   "source": [
    "chat_df.dropna(ignore_index=True, inplace=True)"
   ]
  },
  {
   "cell_type": "markdown",
   "id": "3a98372d-e42d-4509-a76f-90b93e7169da",
   "metadata": {},
   "source": [
    "## 3.3. 텍스트 정제"
   ]
  },
  {
   "cell_type": "code",
   "execution_count": 77,
   "id": "17517afa-dba7-458a-859d-499495325d87",
   "metadata": {},
   "outputs": [
    {
     "name": "stdout",
     "output_type": "stream",
     "text": [
      "['이건', '대박', '헐']\n"
     ]
    }
   ],
   "source": [
    "def simple_tokenizer(text):\n",
    "    # 한국어 단어만 처리\n",
    "    text = re.sub(r\"[^가-힣\\s]\", \" \", text)\n",
    "    \n",
    "    # 공백 기준으로 분리\n",
    "    tokens = text.split()\n",
    "    return tokens\n",
    "\n",
    "# 테스트\n",
    "print(simple_tokenizer(\"ㅋㅋㅋㅋ 이건 ㄹㅇ 대박 ㅠㅠ!! 헐ㅋㅋ{:dsd:}{:dsd:}{:ddsd:}\"))"
   ]
  },
  {
   "cell_type": "code",
   "execution_count": 78,
   "id": "659c72c7-28fa-45da-901a-4fe86e776e0c",
   "metadata": {},
   "outputs": [],
   "source": [
    "# 불용어 처리\n",
    "with open('stopwords-ko.txt', 'r', encoding='utf-8') as f:\n",
    "    stopwords = f.read().splitlines()"
   ]
  },
  {
   "cell_type": "markdown",
   "id": "01045b41-56cc-4b7a-905a-a5b8f7a21fd3",
   "metadata": {},
   "source": [
    "# 4. 시각화"
   ]
  },
  {
   "cell_type": "markdown",
   "id": "34606094-5cf2-41c4-9453-98dace7aba42",
   "metadata": {},
   "source": [
    "## 4.1. 스트리머별 채팅 비율"
   ]
  },
  {
   "cell_type": "code",
   "execution_count": 79,
   "id": "d440d4dc-86ba-4068-96bd-838b70557510",
   "metadata": {},
   "outputs": [
    {
     "name": "stdout",
     "output_type": "stream",
     "text": [
      "streamer_id\n",
      "한동숙           11.934645\n",
      "텐코 시부키        10.238908\n",
      "아야츠노 유니        8.937991\n",
      "풍월량            7.918072\n",
      "울프             7.289930\n",
      "침착맨            6.977045\n",
      "괴물쥐            6.413976\n",
      "아카네 리제         6.147513\n",
      "시라유키 히나        5.473799\n",
      "하나코 나나         5.262838\n",
      "강지             4.813188\n",
      "랄로             3.711916\n",
      "서새봄냥 SEBOM     3.227650\n",
      "아오쿠모 린         3.083014\n",
      "다주             2.859442\n",
      "네네코 마시로        2.282553\n",
      "파카             2.091226\n",
      "탬탬버린           1.335891\n",
      "삼식123          0.000403\n",
      "Name: proportion, dtype: float64\n"
     ]
    }
   ],
   "source": [
    "id_to_name = {\n",
    "    \"75cbf189b3bb8f9f687d2aca0d0a382b\": \"한동숙\",\n",
    "    \"3497a9a7221cc3ee5d3f95991d9f95e9\": \"랄로\",\n",
    "    \"0b33823ac81de48d5b78a38cdbc0ab94\": \"울프\",\n",
    "    \"c7ded8ea6b0605d3c78e18650d2df83b\": \"괴물쥐\",\n",
    "    \"bb382c2c0cc9fa7c86ab3b037fb5799c\": \"침착맨\",\n",
    "    \"a7e175625fdea5a7d98428302b7aa57f\": \"탬탬버린\",\n",
    "    \"45e71a76e949e16a34764deb962f9d9f\": \"아야츠노 유니\",\n",
    "    \"42597020c1a79fb151bd9b9beaa9779b\": \"파카\",\n",
    "    \"b5ed5db484d04faf4d150aedd362f34b\": \"강지\",\n",
    "    \"7ce8032370ac5121dcabce7bad375ced\": \"풍월량\",\n",
    "    \"bdc57cc4217173f0e89f63fba2f1c6e5\": \"다주\",\n",
    "    \"4325b1d5bbc321fad3042306646e2e50\": \"아카네 리제\",\n",
    "    \"a6c4ddb09cdb160478996007bff35296\": \"아라하시 타비\",\n",
    "    \"b044e3a3b9259246bc92e863e7d3f3b8\": \"시라유키 히나\",\n",
    "    \"458f6ec20b034f49e0fc6d03921646d2\": \"서새봄냥 SEBOM\",\n",
    "    \"64d76089fba26b180d9c9e48a32600d9\": \"텐코 시부키\",\n",
    "    \"4515b179f86b67b4981e16190817c580\": \"네네코 마시로\",\n",
    "    \"1c231568d0b13de5703b3f6a5e86dc47\": \"삼식123\",\n",
    "    \"516937b5f85cbf2249ce31b0ad046b0f\": \"아오쿠모 린\",\n",
    "    \"4d812b586ff63f8a2946e64fa860bbf5\": \"하나코 나나\",\n",
    "}\n",
    "\n",
    "vc = chat_df[\"streamer_id\"].value_counts(normalize=True) * 100\n",
    "\n",
    "vc.index = vc.index.map(lambda x: id_to_name.get(x, x))\n",
    "\n",
    "print(vc)"
   ]
  },
  {
   "cell_type": "markdown",
   "id": "c81ae706-034d-421b-8b32-7df86c0ec4e7",
   "metadata": {},
   "source": [
    "## 4.2. 스트리머별 상위 N개 단어"
   ]
  },
  {
   "cell_type": "code",
   "execution_count": 80,
   "id": "1d9a3bad-75c4-4227-91bd-5104e3e29b39",
   "metadata": {},
   "outputs": [],
   "source": [
    "chat_df[\"token\"] = chat_df[\"chat\"].apply(simple_tokenizer)"
   ]
  },
  {
   "cell_type": "code",
   "execution_count": 81,
   "id": "ca5bc56c-cf2b-4f18-aec7-1b535d360780",
   "metadata": {},
   "outputs": [],
   "source": [
    "result = chat_df.groupby('streamer_id')['token'].agg(lambda x: [item for sublist in x for item in sublist]).reset_index()"
   ]
  },
  {
   "cell_type": "code",
   "execution_count": 82,
   "id": "7da3dbc5-87dc-404b-8f81-ccf603009cd0",
   "metadata": {},
   "outputs": [],
   "source": [
    "documents = result['token'].apply(lambda x : ' '.join(x)).values\n",
    "streamers = result[\"streamer_id\"]"
   ]
  },
  {
   "cell_type": "code",
   "execution_count": 83,
   "id": "f2a83633-5cf7-4d89-b027-616ab6c2a67d",
   "metadata": {
    "scrolled": true
   },
   "outputs": [
    {
     "name": "stderr",
     "output_type": "stream",
     "text": [
      "/home/kse/anaconda3/envs/chzzk/lib/python3.9/site-packages/sklearn/feature_extraction/text.py:402: UserWarning: Your stop_words may be inconsistent with your preprocessing. Tokenizing the stop words generated tokens ['sebom', '가서', '같은', '것과', '결과에', '결론을', '관계가', '관련이', '그런', '그럼에도', '그렇게', '그에', '그치지', '김에', '까닭에', '나나', '낫다', '네네코', '년도', '논하지', '누가', '다시', '달려', '대로', '대해', '되는', '되다', '되어', '들면', '들자면', '듯하다', '따르는', '따름이다', '따지지', '때가', '리제', '마시로', '만은', '만이', '많은', '말하면', '말할것도', '몰라도', '몰랏다', '못하다', '미치다', '바꾸어서', '바꿔', '밖에', '방면으로', '보면', '보아', '부류의', '비길수', '비추어', '뿐만', '사람들', '상대적으로', '생각이다', '서새봄냥', '서술한바와같이', '시라유키', '시부키', '쓰여', '아니다', '아니라', '아라하시', '아야츠노', '아오쿠모', '아카네', '안다', '안된다', '않고', '않기', '않는다면', '않다', '않다면', '않도록', '않으면', '알겠는가', '어쩔수', '없고', '없다', '예를', '외에', '요만한', '우에', '위에서', '유니', '이렇게', '이로', '이르다', '이와', '이유는', '인하여', '임에', '점에서', '정도에', '정도의', '종합한것과같이', '주저하지', '줄은', '지경이다', '타비', '텐코', '틀림없다', '편이', '하고', '하기', '하기만', '하나코', '하는', '하는것만', '하는것이', '하다', '하면', '하지', '한하다', '할수록', '함으로써', '해도', '해서는', '형식으로', '히나', '힘이'] not in stop_words.\n",
      "  warnings.warn(\n"
     ]
    },
    {
     "name": "stdout",
     "output_type": "stream",
     "text": [
      "울프의 상위 30개 단어: 라이즈, 너무, 바드, 농심, 이게, 서넌, 이건, 유나라, 젠지, 이거, 라이즈의, 사건, 발생, 울프님, 시비르, 레전드, 든프, 울프야, 구나라, 선언, 아오, 한화, 구원, 아타칸, 어우, 어어, 오늘, 비디디, 빅토르, 아님\n",
      "삼식123의 상위 30개 단어: 삼나님, 입벌리고있을게, 구독권줘라, 오십니다, 삼식, 전역, 일차, 우승하세요, 우승하심, 우승하자, 우승하죠, 우승하지, 우승한, 우승한거라, 우승한거임, 우승한게, 우승한다, 우승할, 우승할거, 우승할거면, 우승하신, 우승하고와라, 우승하기도하드라, 우승하긴할듯, 우승하나, 우승하나요, 우승하네, 우승하는, 우승하는거, 우승하려면\n",
      "랄로의 상위 30개 단어: 약묵땨, 어어, 복무신조, 랄로, 고무란, 랄로야, 냉면, 냉면아저씨, 약묵자, 묵땨, 이거, 김찬호, 랄로님, 보리, 아오, 드가자, 오케이, 조현병, 결의, 이게, 냉면묵땨, 고무, 이제, 찬호야, 너무, 환각이, 워크, 몸매, 환불, 제발먹자\n",
      "파카의 상위 30개 단어: 아칼리, 파카님, 다팔고, 카이사, 밤끝, 볼베, 바루스, 마스터, 자이라, 쇼진, 열매, 아칼리는, 라이즈, 브라움, 구인수, 배치, 에코, 이거, 잔나, 바이, 애쉬, 카르마, 자르반, 대천사, 스웨인, 너무, 방파, 도장, 정손, 출정\n",
      "아카네 리제의 상위 30개 단어: 마망, 그러게, 리제, 아카네, 광증, 리제가, 광증이, 마이데이, 마햄, 리제야, 트리비, 미미, 티탄, 프리스크, 콘츕츕, 어어, 단항, 네네, 파이논, 아오, 리제는, 그건, 언다인, 으지, 어우, 너무, 왔느뇨, 아스리엘, 메타톤, 오오\n",
      "네네코 마시로의 상위 30개 단어: 안냐냐, 시로, 나이스, 오오, 어우, 어어, 대포, 너무, 좋다, 그러게, 찌로, 오우, 까비, 화이팅, 뭐야, 제발, 굿굿, 달려, 매직, 가보자, 오옹, 길이, 가자, 만통, 황버, 이건, 추스, 시로가, 파이어볼, 이게\n",
      "서새봄냥 SEBOM의 상위 30개 단어: 복돌이, 너무, 아이언, 새봄추, 새봄님, 봄추, 리븐, 서새봄, 봄하, 이거, 이제, 이게, 트타, 저거, 많이, 지금, 베이가, 복도링, 그건, 커마, 같은데, 어우, 뭐야, 복돌아, 아님, 애니비아, 이건, 복돌, 그거, 오늘\n",
      "아야츠노 유니의 상위 30개 단어: 유니, 덕분이, 유니야, 유니가, 유니는, 아내임, 스쿼트, 안녕하시지, 그건, 흐흐흐, 너무, 오오, 우승, 이건, 초장, 유니도, 감사합니다, 어어, 호시농, 이게, 역시, 메모리얼, 유니우승, 부키, 잘자시지, 으헤, 대유니, 드가자, 오늘, 이거\n",
      "하나코 나나의 상위 30개 단어: 나나, 반갑나나, 나나야, 오오, 나나가, 어우, 누구지, 나나는, 분내, 어어, 유관력, 너무, 정나나, 이게, 뭐야, 화이팅, 태봉아, 그러게, 아씨, 행님, 그건, 다들, 리코, 이거, 태봉태봉아, 나나도, 역시, 나나님, 월료일, 오버쿡\n",
      "아오쿠모 린의 상위 30개 단어: 엣헴, 오오, 체약체, 어어, 너무, 막국수, 린님, 린이, 린은, 앙평, 뇨봇, 마커스, 까비, 우어터, 화이팅, 오우, 체야채, 부키, 쿠모린, 키뇨피오, 젠장, 가자, 야채, 굿굿, 좋다, 에또, 이게, 빠이린, 구루구루, 최애야채\n",
      "텐코 시부키의 상위 30개 단어: 부키, 부키야, 북하, 오오, 어어, 마자, 너무, 나이스, 부키가, 부키는, 부키도, 좋다, 추카요, 곤듀님, 뭐야, 맞아, 어우, 그거, 까비, 오우, 그건, 이게, 갈릴레오, 손자볼까요, 굿굿, 이거, 화이팅, 이걸, 여우신, 와써\n",
      "한동숙의 상위 30개 단어: 아칼리, 볼베, 너무, 카이사, 그마, 케틀, 제이스, 갱플, 구인수, 이거, 열매, 밤끝, 지금, 우승, 신동, 유미, 카르마, 문도, 이제, 크루, 사미라, 개순, 배치, 그웬, 여명, 이게, 순방, 도장, 라이즈, 성태\n",
      "풍월량의 상위 30개 단어: 너무, 풍바, 이거, 빅터, 이게, 풍형, 개고기, 식구, 실크송, 풍하, 이제, 게임, 뭐야, 파판, 세키로, 도꼬니, 바하, 망치, 준구, 이건, 아님, 같은데, 수과씀다, 형님, 트페, 호피, 소울, 어어, 어우, 종규\n",
      "탬탬버린의 상위 30개 단어: 탬바, 탬하, 이건, 너무, 고죠가, 스쿠나, 구나라, 고죠, 유나라, 토황, 구마, 탬바탬바, 게게, 토우지, 게토, 요릭, 크로노, 이거, 바루스, 마히토, 럼블, 바드, 도란, 어어, 퍼즈, 피폐, 흑섬, 그건, 주술회전, 주인공\n",
      "시라유키 히나의 상위 30개 단어: 히나, 히나야, 투표, 으응, 공주, 그건, 빠히나, 히나는, 해둥이, 히나가, 공주야, 네넹, 히나님, 오오, 수박, 정히나, 화이팅, 만해, 너무, 어어, 이거, 하휴, 보구미, 그거, 아니야, 많이, 그게, 엉비, 이게, 이건\n",
      "강지의 상위 30개 단어: 바지냥이, 강하, 어어, 공공공, 강지님, 이게, 이거, 바지냥, 너무, 이제, 강지야, 김펭귄, 이야, 어우, 오잉, 이건, 어라, 뭐야, 미트라, 그건, 나이스, 오옹, 까비, 크크크, 이미, 그게, 그거, 이걸, 저거, 강도단\n",
      "침착맨의 상위 30개 단어: 삼발이, 염병거니, 가루사마, 해바라기, 쇼박스, 소리, 너무, 아님, 이거, 침착맨, 침바, 세발이, 이집트, 인세인, 이게, 아오, 이건, 비염거니, 인새인, 염병건, 병건아, 저거, 병거니, 고추청년, 이제, 왤케, 최고염, 독둘리, 생구, 호두\n",
      "다주의 상위 30개 단어: 다하, 너무, 다바다바, 아오, 다피스, 다주님, 난가, 뭐야, 다하다하, 이게, 이거, 맞네, 이제, 멋사, 아님, 서넹이, 저거, 무당, 인평, 이건, 강쏘, 다바, 다주는, 서넹, 오늘, 다주가, 역시, 번들, 가디건, 플레임\n",
      "괴물쥐의 상위 30개 단어: 크루, 물쥐야, 물쥐님, 야다, 말파, 아칼리, 트페, 열매, 시비르, 칸치로, 물쥐, 직스, 별수, 신동, 지환아, 지금, 마빵, 너무, 유미, 하핫, 뿌직, 파카님, 다팔고, 크루는, 케틀, 구인수, 이거, 이제, 갱플, 아오\n"
     ]
    }
   ],
   "source": [
    "vectorizer = TfidfVectorizer(stop_words=stopwords)\n",
    "X = vectorizer.fit_transform(documents)\n",
    "df_tfidf = pd.DataFrame(X.toarray(), columns=vectorizer.get_feature_names_out(), index=streamers)\n",
    "\n",
    "top_30_words = {}\n",
    "for streamer in df_tfidf.index:\n",
    "    top_30 = df_tfidf.loc[streamer].sort_values(ascending=False).head(30)\n",
    "    top_30_words[streamer] = top_30.index.tolist()\n",
    "\n",
    "for streamer, words in top_30_words.items():\n",
    "    print(f\"{id_to_name[streamer]}의 상위 30개 단어: {', '.join(words)}\")"
   ]
  },
  {
   "cell_type": "markdown",
   "id": "2ed8969b-af44-4dc1-801e-e169fbba2379",
   "metadata": {},
   "source": [
    "## 4.3. 상위 단어 워드클라우드"
   ]
  },
  {
   "cell_type": "code",
   "execution_count": 84,
   "id": "f5470be6-32a2-4a7d-9bb2-f16693387810",
   "metadata": {
    "scrolled": true
   },
   "outputs": [],
   "source": [
    "out_dir = \"./wordclouds\"\n",
    "os.makedirs(out_dir, exist_ok=True)\n",
    "\n",
    "def make_wordcloud_for_series(s, title, path, top_n):\n",
    "    top = s.sort_values(ascending=False).head(top_n)\n",
    "    top = top[top > 0]\n",
    "    if top.empty:\n",
    "        print(f\"{title} 단어 없음\")\n",
    "        return\n",
    "    \n",
    "    wc = WordCloud(\n",
    "        width=800,\n",
    "        height=600,\n",
    "        background_color=\"white\",\n",
    "        font_path=FONT_PATH,\n",
    "    )\n",
    "    \n",
    "    img = wc.generate_from_frequencies(top.to_dict())\n",
    "    plt.figure(figsize=(10, 6))\n",
    "    plt.imshow(img, interpolation=\"bilinear\")\n",
    "    plt.axis(\"off\")\n",
    "    plt.tight_layout()\n",
    "    plt.savefig(path, dpi=150, bbox_inches=\"tight\")\n",
    "    plt.close()\n",
    "\n",
    "\n",
    "results = []\n",
    "for streamer_id in df_tfidf.index:\n",
    "    name = id_to_name.get(streamer_id, streamer_id)\n",
    "    title = f\"{name} (TF-IDF WordCloud)\"\n",
    "    out_path = os.path.join(out_dir, f\"{streamer_id}_wordcloud.png\")\n",
    "    make_wordcloud_for_series(df_tfidf.loc[streamer_id], title, out_path, 100)"
   ]
  },
  {
   "cell_type": "markdown",
   "id": "dd767a81-51d8-45b5-a29f-c5b8ef7047d0",
   "metadata": {},
   "source": [
    "## 4.4. 유사도 시각화"
   ]
  },
  {
   "cell_type": "code",
   "execution_count": 90,
   "id": "87ef9765-9320-4e54-9a61-1becd8be3fe5",
   "metadata": {},
   "outputs": [
    {
     "name": "stderr",
     "output_type": "stream",
     "text": [
      "/home/kse/anaconda3/envs/chzzk/lib/python3.9/site-packages/sklearn/feature_extraction/text.py:402: UserWarning: Your stop_words may be inconsistent with your preprocessing. Tokenizing the stop words generated tokens ['sebom', '가서', '같은', '것과', '결과에', '결론을', '관계가', '관련이', '그런', '그럼에도', '그렇게', '그에', '그치지', '김에', '까닭에', '나나', '낫다', '네네코', '년도', '논하지', '누가', '다시', '달려', '대로', '대해', '되는', '되다', '되어', '들면', '들자면', '듯하다', '따르는', '따름이다', '따지지', '때가', '리제', '마시로', '만은', '만이', '많은', '말하면', '말할것도', '몰라도', '몰랏다', '못하다', '미치다', '바꾸어서', '바꿔', '밖에', '방면으로', '보면', '보아', '부류의', '비길수', '비추어', '뿐만', '사람들', '상대적으로', '생각이다', '서새봄냥', '서술한바와같이', '시라유키', '시부키', '쓰여', '아니다', '아니라', '아라하시', '아야츠노', '아오쿠모', '아카네', '안다', '안된다', '않고', '않기', '않는다면', '않다', '않다면', '않도록', '않으면', '알겠는가', '어쩔수', '없고', '없다', '예를', '외에', '요만한', '우에', '위에서', '유니', '이렇게', '이로', '이르다', '이와', '이유는', '인하여', '임에', '점에서', '정도에', '정도의', '종합한것과같이', '주저하지', '줄은', '지경이다', '타비', '텐코', '틀림없다', '편이', '하고', '하기', '하기만', '하나코', '하는', '하는것만', '하는것이', '하다', '하면', '하지', '한하다', '할수록', '함으로써', '해도', '해서는', '형식으로', '히나', '힘이'] not in stop_words.\n",
      "  warnings.warn(\n"
     ]
    },
    {
     "data": {
      "image/png": "[encoded data removed]",
      "text/plain": [
       "<Figure size 640x480 with 1 Axes>"
      ]
     },
     "metadata": {},
     "output_type": "display_data"
    }
   ],
   "source": [
    "docs = chat_df.groupby(\"streamer_id\")[\"chat\"].apply(lambda x: \" \".join(x))\n",
    "\n",
    "vectorizer = TfidfVectorizer(max_features=5000, stop_words=stopwords)\n",
    "X = vectorizer.fit_transform(docs)\n",
    "\n",
    "tsne = TSNE(n_components=2, random_state=42, perplexity=5)\n",
    "coords = tsne.fit_transform(X.toarray())\n",
    "\n",
    "coords_df = pd.DataFrame(coords, columns=[\"x\", \"y\"], index=docs.index)\n",
    "coords_df[\"name\"] = coords_df.index.map(id_to_name)\n",
    "\n",
    "plt.axis(\"off\")\n",
    "plt.tight_layout()\n",
    "plt.figure(figsize=(10,8))\n",
    "plt.scatter(coords_df[\"x\"], coords_df[\"y\"])\n",
    "\n",
    "for _, row in coords_df.iterrows():\n",
    "    plt.text(row[\"x\"]+0.05, row[\"y\"]+0.05, row[\"name\"], fontsize=9)\n",
    "\n",
    "out_dir = \"./similarity_map\"\n",
    "os.makedirs(out_dir, exist_ok=True)\n",
    "plot_path = os.path.join(out_dir, \"similarity_map.png\")\n",
    "\n",
    "plt.savefig(plot_path, dpi=150, bbox_inches=\"tight\")\n",
    "plt.close()"
   ]
  }
 ],
 "metadata": {
  "kernelspec": {
   "display_name": "Python 3 (ipykernel)",
   "language": "python",
   "name": "python3"
  },
  "language_info": {
   "codemirror_mode": {
    "name": "ipython",
    "version": 3
   },
   "file_extension": ".py",
   "mimetype": "text/x-python",
   "name": "python",
   "nbconvert_exporter": "python",
   "pygments_lexer": "ipython3",
   "version": "3.9.23"
  }
 },
 "nbformat": 4,
 "nbformat_minor": 5
}
